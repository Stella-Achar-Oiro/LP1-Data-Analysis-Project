{
  "cells": [
    {
      "cell_type": "markdown",
      "metadata": {
        "id": "view-in-github",
        "colab_type": "text"
      },
      "source": [
        "<a href=\"https://colab.research.google.com/github/Stella-Achar-Oiro/LP1-Data-Analysis-Project/blob/main/Indian_Startup_Ecosystem_Analysis_Week2.ipynb\" target=\"_parent\"><img src=\"https://colab.research.google.com/assets/colab-badge.svg\" alt=\"Open In Colab\"/></a>"
      ]
    },
    {
      "cell_type": "markdown",
      "metadata": {
        "id": "g1XWeXzjFPcC"
      },
      "source": [
        "## Details\n",
        "Name : Stella Achar Oiro <br>\n",
        "email: stella.achar@azubiafrica.org <br>\n",
        "Team: Prague <br>\n",
        "Link to Github Repo - ([GitHub](https://github.com/Stella-Achar-Oiro/LP1-Data-Analysis-Project))\n",
        "\n",
        "\n",
        "Project - Indian Startup Funding"
      ]
    },
    {
      "cell_type": "markdown",
      "metadata": {
        "id": "wW3v1-2n3CzK"
      },
      "source": [
        "# Indian Startup Ecosystem Analysis\n",
        "# Intro\n",
        "\n",
        "## Project Intro and Objective\n",
        "**Objective** - Our team is trying to venture into the Indian startup ecosystem. As the data experts of the team we are supposed to investigate the ecosystem and propose the best course of action.\n",
        "\n",
        "## Business & Data Understanding\n",
        "**How does Venture Capital Funding Work?** The process entails entrepreneurs pitching an idea to potential investors seeking finances (funding) to start/improve the business in various ways. A business plan is often a requirement for Venture Capitalist to assess the viability of the entrepreneur’s idea. **Invention** and **Innovation** are key concepts related to Venture Capital funding. Roughly 80% of funding goes into building infrastructure needed to grow the business. (Expenses `[manufacturing, sales, marketing]` and Balance Sheet `[working capital & assets]`).\n",
        "\n",
        "Venture Capital Funding is short-term oriented - it is meant to grow the business to a point where it can be later sold off (to a Corporation or theough IPO). Sometimes the VC wants **equity** (a share of the business). Start-ups (esp. in the new information economy) lack hard assets and can’t therefore access funding from banks (require collateral)\n",
        "**Large institutions** are often behind VC funds – insurance companies, pension funds, financial firms, universities. **Angel Investors** who are High net worth individuals are also participants. While screening ideas or after giving funding to businesses, Venture Capitalists can impose restrictions on behaviour of entrepreneurs.\n",
        "\n",
        "While looking at the **The Indian Venture Capital context**,  we see a booming start-up ecosystem that has become one of the world’s most vibrant and innovative business environments. Country is increasingly being recognized as popular destinations for venture capital (VC) investments. Early-stage investments are seeing particularly strong growth in recent years while Domestic investors are still the most active investor group.\n",
        "\n",
        "The are several stages of **Startup/Venture Capital Funding** - \n",
        "1. **Seed Funding** - the earliest stage of capital raising process as business hasn't started and is only an idea. It is considered the most risky and complicated as investor doesn’t have enough info to make a decision. Main participants are mostly Angel Investors (appreciate riskier ventures and expect high returns). Management/Soft skills of entrepreneur can determine business success (although modern Tech challenges this view).\n",
        "2. **Series A Fianncing** - A type of equity-based financing (company offers convertible preferred shares). Consists of businesses that already generate revenues but are still in the pre-profit stage. Primary objective of funding is for continued growth. It follows a more formal process – more complete company info, valuation of company done & VC firm does due diligence (progress made since start, management’s efficiency in managing resources). Series A rounds raise approximately $2 million to $15 million and the median Series A funding 2021 = $10 million. ([Investopedia](https://www.investopedia.com/articles/personal-finance/102015/series-b-c-funding-what-it-all-means-and-how-it-works.asp))\n",
        "3. **Series B Financing** - this is the 3rd Stage Start-up financing and the 2nd stage VC financing. Like Series A, it is also equity based. The business is already in middle stages of growth, has a user base and could be generating profit. It is now looking to expand their market. More participants enter at  this stage as they are willing to invest in later stages of growth. The objective of funding here is to take business past development stage, help business scale or meet levels of demand. Most participants here are Venture Capital firms and private equity firms.\n",
        "\n",
        " \n",
        "\n",
        "## Overview of the Data\n",
        "\n",
        "The dataset available coonsists of the following peices of data;\n",
        "1. Startup Name/Brand\n",
        "2. Year of Founding\n",
        "3. Location/Headquarters of Business\n",
        "4. Sector of the business\n",
        "5. Founders (Owners)\n",
        "6. Investor (assume it’s the VCs)\n",
        "7. Amount of Funding\n",
        "8. Stage (at which business is in while seeking/offered funding)\n",
        "\n",
        "**Note** - The 2018 Data Lacks some of the above data and has conflict of some data (like currency)."
      ]
    },
    {
      "cell_type": "markdown",
      "metadata": {
        "id": "n4VFUnkuexCE"
      },
      "source": [
        "# Hypothesis\n",
        "\n",
        "**Null Hypothesis** – No factors determine the amount of funding offered to a start-up by venture capitalists in India.\n",
        "\n",
        "**Alternative Hypothesis** – A range of factors about a start-up(characteristics) such as sector it wants to venture into, use of technology or years its has been in existence, stage of growth and location determine the amount of funding offered to start-ups by venture capitalists in India.\n",
        "\n",
        "# Research Questions\n",
        "\n",
        "**Sector**\n",
        "1. What sectors have attracted the largest funding in the last 4 years?\n",
        "2. Who are the major funders of ventures in India in the last 4 years? And what are the major sectors they are directing their funding?\n",
        "3. What are the Maximum, Minimum, Average and Median Funding amounts offered to each sector/ stage of funding and how do they compare?\n",
        "4. What is the trend of financing over the four years, cumulatively (total funding) and in independent sectors? (Monthly and/Yearly Trends)\n",
        "**Technology**\n",
        "5. What business technologies have recieved the highest funding or have been funded more over the last four years?\n",
        "**Location**\n",
        "6. What locations have received the biggest funding?\n",
        "7. What is the spread of Venture Capital funding in India regionally and how do they compare?\n",
        "**Stage**\n",
        "8. Does the stage of the venture affect the amount of funding offered to ventures?\n",
        "9. How many ventures that have got a previous round of financing gone on to successfully raise another stage of financing?\n",
        "**Founders**\n",
        "10. Does the number of business owners (entrepreneurs) in a venture determine the amount/likelihood of funding from investors?\n",
        "11. Does the year of founding determine/influence the funding amount?"
      ]
    },
    {
      "cell_type": "markdown",
      "metadata": {
        "id": "qdFpRxPje1gw"
      },
      "source": [
        "## Installation\n",
        "Here is the section to install all the packages/libraries that will be needed to tackle the challlenge."
      ]
    },
    {
      "cell_type": "code",
      "execution_count": null,
      "metadata": {
        "id": "W-d-roFQe6yi"
      },
      "outputs": [],
      "source": [
        "# !pip install pandas"
      ]
    },
    {
      "cell_type": "markdown",
      "metadata": {
        "id": "0HmLxlQre7HW"
      },
      "source": [
        "## Importation\n",
        "Here is the section to import all the packages/libraries that will be used through this notebook."
      ]
    },
    {
      "cell_type": "code",
      "execution_count": null,
      "metadata": {
        "id": "MP62JaiKfCnS"
      },
      "outputs": [],
      "source": [
        "# Data handling\n",
        "import numpy as np\n",
        "import pandas as pd\n",
        "\n",
        "# Vizualisation (Matplotlib, Plotly, Seaborn, etc. )\n",
        "import matplotlib.pyplot as plt\n",
        "import seaborn as sns\n",
        "\n",
        "# EDA (pandas-profiling, etc. )\n",
        "...\n",
        "\n",
        "# Feature Processing (Scikit-learn processing, etc. )\n",
        "...\n",
        "\n",
        "# Machine Learning (Scikit-learn Estimators, Catboost, LightGBM, etc. )\n",
        "...\n",
        "\n",
        "# Hyperparameters Fine-tuning (Scikit-learn hp search, cross-validation, etc. )\n",
        "...\n",
        "\n",
        "# Other packages\n",
        "import os\n"
      ]
    },
    {
      "cell_type": "markdown",
      "metadata": {
        "id": "UfOADQf0e9i1"
      },
      "source": [
        "# Data Loading\n",
        "Here is the section to load the datasets (train, eval, test) and the additional files"
      ]
    },
    {
      "cell_type": "code",
      "execution_count": null,
      "metadata": {
        "colab": {
          "base_uri": "https://localhost:8080/"
        },
        "id": "KIQyG5EcfQlU",
        "outputId": "a80c05c6-4f83-44b1-fb18-b7cce9190dc3"
      },
      "outputs": [
        {
          "name": "stdout",
          "output_type": "stream",
          "text": [
            "Drive already mounted at /content/drive; to attempt to forcibly remount, call drive.mount(\"/content/drive\", force_remount=True).\n"
          ]
        }
      ],
      "source": [
        "# For CSV, use pandas.read_csv\n",
        "\n",
        "from google.colab import drive\n",
        "drive.mount('/content/drive')\n",
        "\n",
        "startupdf_2018 = pd.read_csv('/content/drive/MyDrive/India Startup Funding/startup_funding2018.csv')\n",
        "startupdf_2019 = pd.read_csv('/content/drive/MyDrive/India Startup Funding/startup_funding2019.csv')\n",
        "startupdf_2020 = pd.read_csv('/content/drive/MyDrive/India Startup Funding/startup_funding2020.csv')\n",
        "startupdf_2021 = pd.read_csv('/content/drive/MyDrive/India Startup Funding/startup_funding2021.csv')"
      ]
    },
    {
      "cell_type": "markdown",
      "metadata": {
        "id": "okaZxnc3fRId"
      },
      "source": [
        "# Exploratory Data Analysis: EDA\n",
        "Here is the section to **inspect** the datasets in depth, **present** it, make **hypotheses** and **think** the *cleaning, processing and features creation*."
      ]
    },
    {
      "cell_type": "markdown",
      "metadata": {
        "id": "kTvnZQUlD6vf"
      },
      "source": [
        "## Dataset overview\n",
        "\n",
        "Have a look at the loaded datsets using the following methods: `.head(), .info()`"
      ]
    },
    {
      "cell_type": "code",
      "execution_count": null,
      "metadata": {
        "colab": {
          "base_uri": "https://localhost:8080/"
        },
        "id": "0VNR9LfZfbGe",
        "outputId": "397113e7-bfb7-46f9-9f86-9461c1daf58f"
      },
      "outputs": [
        {
          "name": "stdout",
          "output_type": "stream",
          "text": [
            "<class 'pandas.core.frame.DataFrame'>\n",
            "RangeIndex: 526 entries, 0 to 525\n",
            "Data columns (total 6 columns):\n",
            " #   Column         Non-Null Count  Dtype \n",
            "---  ------         --------------  ----- \n",
            " 0   Company Name   526 non-null    object\n",
            " 1   Industry       526 non-null    object\n",
            " 2   Round/Series   526 non-null    object\n",
            " 3   Amount         526 non-null    object\n",
            " 4   Location       526 non-null    object\n",
            " 5   About Company  526 non-null    object\n",
            "dtypes: object(6)\n",
            "memory usage: 24.8+ KB\n"
          ]
        }
      ],
      "source": [
        "# Get a summary of the 2018 data\n",
        "startupdf_2018.info()"
      ]
    },
    {
      "cell_type": "code",
      "execution_count": null,
      "metadata": {
        "colab": {
          "base_uri": "https://localhost:8080/"
        },
        "id": "3oUlBJbRFa2t",
        "outputId": "1d6211c6-0d10-45a9-c69f-48a9b0d7565f"
      },
      "outputs": [
        {
          "name": "stdout",
          "output_type": "stream",
          "text": [
            "<class 'pandas.core.frame.DataFrame'>\n",
            "RangeIndex: 89 entries, 0 to 88\n",
            "Data columns (total 9 columns):\n",
            " #   Column         Non-Null Count  Dtype  \n",
            "---  ------         --------------  -----  \n",
            " 0   Company/Brand  89 non-null     object \n",
            " 1   Founded        60 non-null     float64\n",
            " 2   HeadQuarter    70 non-null     object \n",
            " 3   Sector         84 non-null     object \n",
            " 4   What it does   89 non-null     object \n",
            " 5   Founders       86 non-null     object \n",
            " 6   Investor       89 non-null     object \n",
            " 7   Amount($)      89 non-null     object \n",
            " 8   Stage          43 non-null     object \n",
            "dtypes: float64(1), object(8)\n",
            "memory usage: 6.4+ KB\n"
          ]
        }
      ],
      "source": [
        "# Get a summary of the 2019 data\n",
        "startupdf_2019.info()"
      ]
    },
    {
      "cell_type": "code",
      "execution_count": null,
      "metadata": {
        "id": "BZ5iuboLBl-U"
      },
      "outputs": [],
      "source": [
        "#Make the 2018 data Column names match the 2019-2021 data\n",
        "\n",
        "startupdf_2018.rename(columns={'Company Name' : 'Company/Brand', 'Industry' : 'Sector', 'Round/Series' : 'Stage', 'Amount' : 'Amount($)', 'Location' : 'HeadQuarter', 'About Company' : 'What it does'}, inplace = True)"
      ]
    },
    {
      "cell_type": "code",
      "execution_count": null,
      "metadata": {
        "colab": {
          "base_uri": "https://localhost:8080/"
        },
        "id": "E3i9OQ4mB5TD",
        "outputId": "696fbd03-b83c-41ae-e7b0-c4e212873bff"
      },
      "outputs": [
        {
          "data": {
            "text/plain": [
              "Index(['Company/Brand', 'Sector', 'Stage', 'Amount($)', 'HeadQuarter',\n",
              "       'What it does'],\n",
              "      dtype='object')"
            ]
          },
          "execution_count": 7,
          "metadata": {},
          "output_type": "execute_result"
        }
      ],
      "source": [
        "# View the 2018 dataframe columns\n",
        "startupdf_2018.columns"
      ]
    },
    {
      "cell_type": "code",
      "execution_count": null,
      "metadata": {
        "colab": {
          "base_uri": "https://localhost:8080/"
        },
        "id": "a9_11nJGCO0P",
        "outputId": "74b51bea-6cb7-4885-fe5b-161f73fd4e83"
      },
      "outputs": [
        {
          "name": "stdout",
          "output_type": "stream",
          "text": [
            "<class 'pandas.core.frame.DataFrame'>\n",
            "RangeIndex: 526 entries, 0 to 525\n",
            "Data columns (total 6 columns):\n",
            " #   Column         Non-Null Count  Dtype \n",
            "---  ------         --------------  ----- \n",
            " 0   Company/Brand  526 non-null    object\n",
            " 1   Sector         526 non-null    object\n",
            " 2   Stage          526 non-null    object\n",
            " 3   Amount($)      526 non-null    object\n",
            " 4   HeadQuarter    526 non-null    object\n",
            " 5   What it does   526 non-null    object\n",
            "dtypes: object(6)\n",
            "memory usage: 24.8+ KB\n"
          ]
        }
      ],
      "source": [
        "#View the 2018 columns data types\n",
        "\n",
        "startupdf_2018.info()"
      ]
    },
    {
      "cell_type": "code",
      "execution_count": null,
      "metadata": {
        "id": "DWE1GZolCbWa"
      },
      "outputs": [],
      "source": [
        "#Concatenate all four dataframes\n",
        "#Vertical concatenation used (axis=0 ) means along rows\n",
        "#ignore-Index parameter to reset the index\n",
        "\n",
        "startup_df = pd.concat([startupdf_2018, startupdf_2019, startupdf_2020, startupdf_2021], axis=0, ignore_index=True, sort=False)"
      ]
    },
    {
      "cell_type": "code",
      "execution_count": null,
      "metadata": {
        "colab": {
          "base_uri": "https://localhost:8080/",
          "height": 711
        },
        "id": "n3lRlsfRCvGN",
        "outputId": "a389c85d-dc92-431b-d451-c3dfb02c0392"
      },
      "outputs": [
        {
          "data": {
            "text/html": [
              "\n",
              "  <div id=\"df-3fb0112a-0b05-4a79-addf-78ac6078bacb\">\n",
              "    <div class=\"colab-df-container\">\n",
              "      <div>\n",
              "<style scoped>\n",
              "    .dataframe tbody tr th:only-of-type {\n",
              "        vertical-align: middle;\n",
              "    }\n",
              "\n",
              "    .dataframe tbody tr th {\n",
              "        vertical-align: top;\n",
              "    }\n",
              "\n",
              "    .dataframe thead th {\n",
              "        text-align: right;\n",
              "    }\n",
              "</style>\n",
              "<table border=\"1\" class=\"dataframe\">\n",
              "  <thead>\n",
              "    <tr style=\"text-align: right;\">\n",
              "      <th></th>\n",
              "      <th>Company/Brand</th>\n",
              "      <th>Sector</th>\n",
              "      <th>Stage</th>\n",
              "      <th>Amount($)</th>\n",
              "      <th>HeadQuarter</th>\n",
              "      <th>What it does</th>\n",
              "      <th>Founded</th>\n",
              "      <th>Founders</th>\n",
              "      <th>Investor</th>\n",
              "      <th>Unnamed: 9</th>\n",
              "    </tr>\n",
              "  </thead>\n",
              "  <tbody>\n",
              "    <tr>\n",
              "      <th>0</th>\n",
              "      <td>TheCollegeFever</td>\n",
              "      <td>Brand Marketing, Event Promotion, Marketing, S...</td>\n",
              "      <td>Seed</td>\n",
              "      <td>250000</td>\n",
              "      <td>Bangalore, Karnataka, India</td>\n",
              "      <td>TheCollegeFever is a hub for fun, fiesta and f...</td>\n",
              "      <td>NaN</td>\n",
              "      <td>NaN</td>\n",
              "      <td>NaN</td>\n",
              "      <td>NaN</td>\n",
              "    </tr>\n",
              "    <tr>\n",
              "      <th>1</th>\n",
              "      <td>Happy Cow Dairy</td>\n",
              "      <td>Agriculture, Farming</td>\n",
              "      <td>Seed</td>\n",
              "      <td>₹40,000,000</td>\n",
              "      <td>Mumbai, Maharashtra, India</td>\n",
              "      <td>A startup which aggregates milk from dairy far...</td>\n",
              "      <td>NaN</td>\n",
              "      <td>NaN</td>\n",
              "      <td>NaN</td>\n",
              "      <td>NaN</td>\n",
              "    </tr>\n",
              "    <tr>\n",
              "      <th>2</th>\n",
              "      <td>MyLoanCare</td>\n",
              "      <td>Credit, Financial Services, Lending, Marketplace</td>\n",
              "      <td>Series A</td>\n",
              "      <td>₹65,000,000</td>\n",
              "      <td>Gurgaon, Haryana, India</td>\n",
              "      <td>Leading Online Loans Marketplace in India</td>\n",
              "      <td>NaN</td>\n",
              "      <td>NaN</td>\n",
              "      <td>NaN</td>\n",
              "      <td>NaN</td>\n",
              "    </tr>\n",
              "    <tr>\n",
              "      <th>3</th>\n",
              "      <td>PayMe India</td>\n",
              "      <td>Financial Services, FinTech</td>\n",
              "      <td>Angel</td>\n",
              "      <td>2000000</td>\n",
              "      <td>Noida, Uttar Pradesh, India</td>\n",
              "      <td>PayMe India is an innovative FinTech organizat...</td>\n",
              "      <td>NaN</td>\n",
              "      <td>NaN</td>\n",
              "      <td>NaN</td>\n",
              "      <td>NaN</td>\n",
              "    </tr>\n",
              "    <tr>\n",
              "      <th>4</th>\n",
              "      <td>Eunimart</td>\n",
              "      <td>E-Commerce Platforms, Retail, SaaS</td>\n",
              "      <td>Seed</td>\n",
              "      <td>—</td>\n",
              "      <td>Hyderabad, Andhra Pradesh, India</td>\n",
              "      <td>Eunimart is a one stop solution for merchants ...</td>\n",
              "      <td>NaN</td>\n",
              "      <td>NaN</td>\n",
              "      <td>NaN</td>\n",
              "      <td>NaN</td>\n",
              "    </tr>\n",
              "    <tr>\n",
              "      <th>...</th>\n",
              "      <td>...</td>\n",
              "      <td>...</td>\n",
              "      <td>...</td>\n",
              "      <td>...</td>\n",
              "      <td>...</td>\n",
              "      <td>...</td>\n",
              "      <td>...</td>\n",
              "      <td>...</td>\n",
              "      <td>...</td>\n",
              "      <td>...</td>\n",
              "    </tr>\n",
              "    <tr>\n",
              "      <th>2874</th>\n",
              "      <td>Gigforce</td>\n",
              "      <td>Staffing &amp; Recruiting</td>\n",
              "      <td>Pre-series A</td>\n",
              "      <td>$3000000</td>\n",
              "      <td>Gurugram</td>\n",
              "      <td>A gig/on-demand staffing company.</td>\n",
              "      <td>2019.0</td>\n",
              "      <td>Chirag Mittal, Anirudh Syal</td>\n",
              "      <td>Endiya Partners</td>\n",
              "      <td>NaN</td>\n",
              "    </tr>\n",
              "    <tr>\n",
              "      <th>2875</th>\n",
              "      <td>Vahdam</td>\n",
              "      <td>Food &amp; Beverages</td>\n",
              "      <td>Series D</td>\n",
              "      <td>$20000000</td>\n",
              "      <td>New Delhi</td>\n",
              "      <td>VAHDAM is among the world’s first vertically i...</td>\n",
              "      <td>2015.0</td>\n",
              "      <td>Bala Sarda</td>\n",
              "      <td>IIFL AMC</td>\n",
              "      <td>NaN</td>\n",
              "    </tr>\n",
              "    <tr>\n",
              "      <th>2876</th>\n",
              "      <td>Leap Finance</td>\n",
              "      <td>Financial Services</td>\n",
              "      <td>Series C</td>\n",
              "      <td>$55000000</td>\n",
              "      <td>Bangalore</td>\n",
              "      <td>International education loans for high potenti...</td>\n",
              "      <td>2019.0</td>\n",
              "      <td>Arnav Kumar, Vaibhav Singh</td>\n",
              "      <td>Owl Ventures</td>\n",
              "      <td>NaN</td>\n",
              "    </tr>\n",
              "    <tr>\n",
              "      <th>2877</th>\n",
              "      <td>CollegeDekho</td>\n",
              "      <td>EdTech</td>\n",
              "      <td>Series B</td>\n",
              "      <td>$26000000</td>\n",
              "      <td>Gurugram</td>\n",
              "      <td>Collegedekho.com is Student’s Partner, Friend ...</td>\n",
              "      <td>2015.0</td>\n",
              "      <td>Ruchir Arora</td>\n",
              "      <td>Winter Capital, ETS, Man Capital</td>\n",
              "      <td>NaN</td>\n",
              "    </tr>\n",
              "    <tr>\n",
              "      <th>2878</th>\n",
              "      <td>WeRize</td>\n",
              "      <td>Financial Services</td>\n",
              "      <td>Series A</td>\n",
              "      <td>$8000000</td>\n",
              "      <td>Bangalore</td>\n",
              "      <td>India’s first socially distributed full stack ...</td>\n",
              "      <td>2019.0</td>\n",
              "      <td>Vishal Chopra, Himanshu Gupta</td>\n",
              "      <td>3one4 Capital, Kalaari Capital</td>\n",
              "      <td>NaN</td>\n",
              "    </tr>\n",
              "  </tbody>\n",
              "</table>\n",
              "<p>2879 rows × 10 columns</p>\n",
              "</div>\n",
              "      <button class=\"colab-df-convert\" onclick=\"convertToInteractive('df-3fb0112a-0b05-4a79-addf-78ac6078bacb')\"\n",
              "              title=\"Convert this dataframe to an interactive table.\"\n",
              "              style=\"display:none;\">\n",
              "        \n",
              "  <svg xmlns=\"http://www.w3.org/2000/svg\" height=\"24px\"viewBox=\"0 0 24 24\"\n",
              "       width=\"24px\">\n",
              "    <path d=\"M0 0h24v24H0V0z\" fill=\"none\"/>\n",
              "    <path d=\"M18.56 5.44l.94 2.06.94-2.06 2.06-.94-2.06-.94-.94-2.06-.94 2.06-2.06.94zm-11 1L8.5 8.5l.94-2.06 2.06-.94-2.06-.94L8.5 2.5l-.94 2.06-2.06.94zm10 10l.94 2.06.94-2.06 2.06-.94-2.06-.94-.94-2.06-.94 2.06-2.06.94z\"/><path d=\"M17.41 7.96l-1.37-1.37c-.4-.4-.92-.59-1.43-.59-.52 0-1.04.2-1.43.59L10.3 9.45l-7.72 7.72c-.78.78-.78 2.05 0 2.83L4 21.41c.39.39.9.59 1.41.59.51 0 1.02-.2 1.41-.59l7.78-7.78 2.81-2.81c.8-.78.8-2.07 0-2.86zM5.41 20L4 18.59l7.72-7.72 1.47 1.35L5.41 20z\"/>\n",
              "  </svg>\n",
              "      </button>\n",
              "      \n",
              "  <style>\n",
              "    .colab-df-container {\n",
              "      display:flex;\n",
              "      flex-wrap:wrap;\n",
              "      gap: 12px;\n",
              "    }\n",
              "\n",
              "    .colab-df-convert {\n",
              "      background-color: #E8F0FE;\n",
              "      border: none;\n",
              "      border-radius: 50%;\n",
              "      cursor: pointer;\n",
              "      display: none;\n",
              "      fill: #1967D2;\n",
              "      height: 32px;\n",
              "      padding: 0 0 0 0;\n",
              "      width: 32px;\n",
              "    }\n",
              "\n",
              "    .colab-df-convert:hover {\n",
              "      background-color: #E2EBFA;\n",
              "      box-shadow: 0px 1px 2px rgba(60, 64, 67, 0.3), 0px 1px 3px 1px rgba(60, 64, 67, 0.15);\n",
              "      fill: #174EA6;\n",
              "    }\n",
              "\n",
              "    [theme=dark] .colab-df-convert {\n",
              "      background-color: #3B4455;\n",
              "      fill: #D2E3FC;\n",
              "    }\n",
              "\n",
              "    [theme=dark] .colab-df-convert:hover {\n",
              "      background-color: #434B5C;\n",
              "      box-shadow: 0px 1px 3px 1px rgba(0, 0, 0, 0.15);\n",
              "      filter: drop-shadow(0px 1px 2px rgba(0, 0, 0, 0.3));\n",
              "      fill: #FFFFFF;\n",
              "    }\n",
              "  </style>\n",
              "\n",
              "      <script>\n",
              "        const buttonEl =\n",
              "          document.querySelector('#df-3fb0112a-0b05-4a79-addf-78ac6078bacb button.colab-df-convert');\n",
              "        buttonEl.style.display =\n",
              "          google.colab.kernel.accessAllowed ? 'block' : 'none';\n",
              "\n",
              "        async function convertToInteractive(key) {\n",
              "          const element = document.querySelector('#df-3fb0112a-0b05-4a79-addf-78ac6078bacb');\n",
              "          const dataTable =\n",
              "            await google.colab.kernel.invokeFunction('convertToInteractive',\n",
              "                                                     [key], {});\n",
              "          if (!dataTable) return;\n",
              "\n",
              "          const docLinkHtml = 'Like what you see? Visit the ' +\n",
              "            '<a target=\"_blank\" href=https://colab.research.google.com/notebooks/data_table.ipynb>data table notebook</a>'\n",
              "            + ' to learn more about interactive tables.';\n",
              "          element.innerHTML = '';\n",
              "          dataTable['output_type'] = 'display_data';\n",
              "          await google.colab.output.renderOutput(dataTable, element);\n",
              "          const docLink = document.createElement('div');\n",
              "          docLink.innerHTML = docLinkHtml;\n",
              "          element.appendChild(docLink);\n",
              "        }\n",
              "      </script>\n",
              "    </div>\n",
              "  </div>\n",
              "  "
            ],
            "text/plain": [
              "        Company/Brand                                             Sector  \\\n",
              "0     TheCollegeFever  Brand Marketing, Event Promotion, Marketing, S...   \n",
              "1     Happy Cow Dairy                               Agriculture, Farming   \n",
              "2          MyLoanCare   Credit, Financial Services, Lending, Marketplace   \n",
              "3         PayMe India                        Financial Services, FinTech   \n",
              "4            Eunimart                 E-Commerce Platforms, Retail, SaaS   \n",
              "...               ...                                                ...   \n",
              "2874         Gigforce                              Staffing & Recruiting   \n",
              "2875           Vahdam                                   Food & Beverages   \n",
              "2876     Leap Finance                                 Financial Services   \n",
              "2877     CollegeDekho                                             EdTech   \n",
              "2878           WeRize                                 Financial Services   \n",
              "\n",
              "             Stage    Amount($)                       HeadQuarter  \\\n",
              "0             Seed       250000       Bangalore, Karnataka, India   \n",
              "1             Seed  ₹40,000,000        Mumbai, Maharashtra, India   \n",
              "2         Series A  ₹65,000,000           Gurgaon, Haryana, India   \n",
              "3            Angel      2000000       Noida, Uttar Pradesh, India   \n",
              "4             Seed            —  Hyderabad, Andhra Pradesh, India   \n",
              "...            ...          ...                               ...   \n",
              "2874  Pre-series A     $3000000                          Gurugram   \n",
              "2875      Series D    $20000000                         New Delhi   \n",
              "2876      Series C    $55000000                         Bangalore   \n",
              "2877      Series B    $26000000                          Gurugram   \n",
              "2878      Series A     $8000000                         Bangalore   \n",
              "\n",
              "                                           What it does Founded  \\\n",
              "0     TheCollegeFever is a hub for fun, fiesta and f...     NaN   \n",
              "1     A startup which aggregates milk from dairy far...     NaN   \n",
              "2             Leading Online Loans Marketplace in India     NaN   \n",
              "3     PayMe India is an innovative FinTech organizat...     NaN   \n",
              "4     Eunimart is a one stop solution for merchants ...     NaN   \n",
              "...                                                 ...     ...   \n",
              "2874                  A gig/on-demand staffing company.  2019.0   \n",
              "2875  VAHDAM is among the world’s first vertically i...  2015.0   \n",
              "2876  International education loans for high potenti...  2019.0   \n",
              "2877  Collegedekho.com is Student’s Partner, Friend ...  2015.0   \n",
              "2878  India’s first socially distributed full stack ...  2019.0   \n",
              "\n",
              "                           Founders                          Investor  \\\n",
              "0                               NaN                               NaN   \n",
              "1                               NaN                               NaN   \n",
              "2                               NaN                               NaN   \n",
              "3                               NaN                               NaN   \n",
              "4                               NaN                               NaN   \n",
              "...                             ...                               ...   \n",
              "2874    Chirag Mittal, Anirudh Syal                   Endiya Partners   \n",
              "2875                     Bala Sarda                          IIFL AMC   \n",
              "2876     Arnav Kumar, Vaibhav Singh                      Owl Ventures   \n",
              "2877                   Ruchir Arora  Winter Capital, ETS, Man Capital   \n",
              "2878  Vishal Chopra, Himanshu Gupta    3one4 Capital, Kalaari Capital   \n",
              "\n",
              "     Unnamed: 9  \n",
              "0           NaN  \n",
              "1           NaN  \n",
              "2           NaN  \n",
              "3           NaN  \n",
              "4           NaN  \n",
              "...         ...  \n",
              "2874        NaN  \n",
              "2875        NaN  \n",
              "2876        NaN  \n",
              "2877        NaN  \n",
              "2878        NaN  \n",
              "\n",
              "[2879 rows x 10 columns]"
            ]
          },
          "execution_count": 10,
          "metadata": {},
          "output_type": "execute_result"
        }
      ],
      "source": [
        "#View concatenated dataframe to confirm\n",
        "\n",
        "startup_df"
      ]
    },
    {
      "cell_type": "code",
      "execution_count": null,
      "metadata": {
        "colab": {
          "base_uri": "https://localhost:8080/"
        },
        "id": "gTUW3PcmC5lD",
        "outputId": "8a1f1063-a99a-4e49-833a-af0598ad01f6"
      },
      "outputs": [
        {
          "data": {
            "text/plain": [
              "(2879, 10)"
            ]
          },
          "execution_count": 11,
          "metadata": {},
          "output_type": "execute_result"
        }
      ],
      "source": [
        "#View number of columns and rows of new dataframe\n",
        "startup_df.shape\n"
      ]
    },
    {
      "cell_type": "code",
      "execution_count": null,
      "metadata": {
        "colab": {
          "base_uri": "https://localhost:8080/"
        },
        "id": "xmWYw0IcDPpb",
        "outputId": "ddb53581-edb6-4f37-a81e-dd019d4208fa"
      },
      "outputs": [
        {
          "name": "stdout",
          "output_type": "stream",
          "text": [
            "<class 'pandas.core.frame.DataFrame'>\n",
            "RangeIndex: 2879 entries, 0 to 2878\n",
            "Data columns (total 10 columns):\n",
            " #   Column         Non-Null Count  Dtype \n",
            "---  ------         --------------  ----- \n",
            " 0   Company/Brand  2879 non-null   object\n",
            " 1   Sector         2861 non-null   object\n",
            " 2   Stage          1941 non-null   object\n",
            " 3   Amount($)      2873 non-null   object\n",
            " 4   HeadQuarter    2765 non-null   object\n",
            " 5   What it does   2879 non-null   object\n",
            " 6   Founded        2111 non-null   object\n",
            " 7   Founders       2334 non-null   object\n",
            " 8   Investor       2253 non-null   object\n",
            " 9   Unnamed: 9     2 non-null      object\n",
            "dtypes: object(10)\n",
            "memory usage: 225.0+ KB\n"
          ]
        }
      ],
      "source": [
        "#View data types of the columns of the new dataframe\n",
        "startup_df.info()"
      ]
    },
    {
      "cell_type": "code",
      "execution_count": null,
      "metadata": {
        "id": "lYabyfL7H6hX"
      },
      "outputs": [],
      "source": [
        "# Remove/Drop the extra null column - Unnamed: 9\n",
        "startup_df.drop('Unnamed: 9', inplace=True, axis=1)"
      ]
    },
    {
      "cell_type": "code",
      "execution_count": null,
      "metadata": {
        "colab": {
          "base_uri": "https://localhost:8080/",
          "height": 641
        },
        "id": "CfloaWszIeWK",
        "outputId": "12ff34cf-0859-434e-f0b0-a25c17646a52"
      },
      "outputs": [
        {
          "data": {
            "text/html": [
              "\n",
              "  <div id=\"df-6e010e21-937f-479e-9ca0-3d9ffbca2ccd\">\n",
              "    <div class=\"colab-df-container\">\n",
              "      <div>\n",
              "<style scoped>\n",
              "    .dataframe tbody tr th:only-of-type {\n",
              "        vertical-align: middle;\n",
              "    }\n",
              "\n",
              "    .dataframe tbody tr th {\n",
              "        vertical-align: top;\n",
              "    }\n",
              "\n",
              "    .dataframe thead th {\n",
              "        text-align: right;\n",
              "    }\n",
              "</style>\n",
              "<table border=\"1\" class=\"dataframe\">\n",
              "  <thead>\n",
              "    <tr style=\"text-align: right;\">\n",
              "      <th></th>\n",
              "      <th>Company/Brand</th>\n",
              "      <th>Sector</th>\n",
              "      <th>Stage</th>\n",
              "      <th>Amount($)</th>\n",
              "      <th>HeadQuarter</th>\n",
              "      <th>What it does</th>\n",
              "      <th>Founded</th>\n",
              "      <th>Founders</th>\n",
              "      <th>Investor</th>\n",
              "    </tr>\n",
              "  </thead>\n",
              "  <tbody>\n",
              "    <tr>\n",
              "      <th>0</th>\n",
              "      <td>TheCollegeFever</td>\n",
              "      <td>Brand Marketing, Event Promotion, Marketing, S...</td>\n",
              "      <td>Seed</td>\n",
              "      <td>250000</td>\n",
              "      <td>Bangalore, Karnataka, India</td>\n",
              "      <td>TheCollegeFever is a hub for fun, fiesta and f...</td>\n",
              "      <td>NaN</td>\n",
              "      <td>NaN</td>\n",
              "      <td>NaN</td>\n",
              "    </tr>\n",
              "    <tr>\n",
              "      <th>1</th>\n",
              "      <td>Happy Cow Dairy</td>\n",
              "      <td>Agriculture, Farming</td>\n",
              "      <td>Seed</td>\n",
              "      <td>₹40,000,000</td>\n",
              "      <td>Mumbai, Maharashtra, India</td>\n",
              "      <td>A startup which aggregates milk from dairy far...</td>\n",
              "      <td>NaN</td>\n",
              "      <td>NaN</td>\n",
              "      <td>NaN</td>\n",
              "    </tr>\n",
              "    <tr>\n",
              "      <th>2</th>\n",
              "      <td>MyLoanCare</td>\n",
              "      <td>Credit, Financial Services, Lending, Marketplace</td>\n",
              "      <td>Series A</td>\n",
              "      <td>₹65,000,000</td>\n",
              "      <td>Gurgaon, Haryana, India</td>\n",
              "      <td>Leading Online Loans Marketplace in India</td>\n",
              "      <td>NaN</td>\n",
              "      <td>NaN</td>\n",
              "      <td>NaN</td>\n",
              "    </tr>\n",
              "    <tr>\n",
              "      <th>3</th>\n",
              "      <td>PayMe India</td>\n",
              "      <td>Financial Services, FinTech</td>\n",
              "      <td>Angel</td>\n",
              "      <td>2000000</td>\n",
              "      <td>Noida, Uttar Pradesh, India</td>\n",
              "      <td>PayMe India is an innovative FinTech organizat...</td>\n",
              "      <td>NaN</td>\n",
              "      <td>NaN</td>\n",
              "      <td>NaN</td>\n",
              "    </tr>\n",
              "    <tr>\n",
              "      <th>4</th>\n",
              "      <td>Eunimart</td>\n",
              "      <td>E-Commerce Platforms, Retail, SaaS</td>\n",
              "      <td>Seed</td>\n",
              "      <td>—</td>\n",
              "      <td>Hyderabad, Andhra Pradesh, India</td>\n",
              "      <td>Eunimart is a one stop solution for merchants ...</td>\n",
              "      <td>NaN</td>\n",
              "      <td>NaN</td>\n",
              "      <td>NaN</td>\n",
              "    </tr>\n",
              "    <tr>\n",
              "      <th>...</th>\n",
              "      <td>...</td>\n",
              "      <td>...</td>\n",
              "      <td>...</td>\n",
              "      <td>...</td>\n",
              "      <td>...</td>\n",
              "      <td>...</td>\n",
              "      <td>...</td>\n",
              "      <td>...</td>\n",
              "      <td>...</td>\n",
              "    </tr>\n",
              "    <tr>\n",
              "      <th>2874</th>\n",
              "      <td>Gigforce</td>\n",
              "      <td>Staffing &amp; Recruiting</td>\n",
              "      <td>Pre-series A</td>\n",
              "      <td>$3000000</td>\n",
              "      <td>Gurugram</td>\n",
              "      <td>A gig/on-demand staffing company.</td>\n",
              "      <td>2019.0</td>\n",
              "      <td>Chirag Mittal, Anirudh Syal</td>\n",
              "      <td>Endiya Partners</td>\n",
              "    </tr>\n",
              "    <tr>\n",
              "      <th>2875</th>\n",
              "      <td>Vahdam</td>\n",
              "      <td>Food &amp; Beverages</td>\n",
              "      <td>Series D</td>\n",
              "      <td>$20000000</td>\n",
              "      <td>New Delhi</td>\n",
              "      <td>VAHDAM is among the world’s first vertically i...</td>\n",
              "      <td>2015.0</td>\n",
              "      <td>Bala Sarda</td>\n",
              "      <td>IIFL AMC</td>\n",
              "    </tr>\n",
              "    <tr>\n",
              "      <th>2876</th>\n",
              "      <td>Leap Finance</td>\n",
              "      <td>Financial Services</td>\n",
              "      <td>Series C</td>\n",
              "      <td>$55000000</td>\n",
              "      <td>Bangalore</td>\n",
              "      <td>International education loans for high potenti...</td>\n",
              "      <td>2019.0</td>\n",
              "      <td>Arnav Kumar, Vaibhav Singh</td>\n",
              "      <td>Owl Ventures</td>\n",
              "    </tr>\n",
              "    <tr>\n",
              "      <th>2877</th>\n",
              "      <td>CollegeDekho</td>\n",
              "      <td>EdTech</td>\n",
              "      <td>Series B</td>\n",
              "      <td>$26000000</td>\n",
              "      <td>Gurugram</td>\n",
              "      <td>Collegedekho.com is Student’s Partner, Friend ...</td>\n",
              "      <td>2015.0</td>\n",
              "      <td>Ruchir Arora</td>\n",
              "      <td>Winter Capital, ETS, Man Capital</td>\n",
              "    </tr>\n",
              "    <tr>\n",
              "      <th>2878</th>\n",
              "      <td>WeRize</td>\n",
              "      <td>Financial Services</td>\n",
              "      <td>Series A</td>\n",
              "      <td>$8000000</td>\n",
              "      <td>Bangalore</td>\n",
              "      <td>India’s first socially distributed full stack ...</td>\n",
              "      <td>2019.0</td>\n",
              "      <td>Vishal Chopra, Himanshu Gupta</td>\n",
              "      <td>3one4 Capital, Kalaari Capital</td>\n",
              "    </tr>\n",
              "  </tbody>\n",
              "</table>\n",
              "<p>2879 rows × 9 columns</p>\n",
              "</div>\n",
              "      <button class=\"colab-df-convert\" onclick=\"convertToInteractive('df-6e010e21-937f-479e-9ca0-3d9ffbca2ccd')\"\n",
              "              title=\"Convert this dataframe to an interactive table.\"\n",
              "              style=\"display:none;\">\n",
              "        \n",
              "  <svg xmlns=\"http://www.w3.org/2000/svg\" height=\"24px\"viewBox=\"0 0 24 24\"\n",
              "       width=\"24px\">\n",
              "    <path d=\"M0 0h24v24H0V0z\" fill=\"none\"/>\n",
              "    <path d=\"M18.56 5.44l.94 2.06.94-2.06 2.06-.94-2.06-.94-.94-2.06-.94 2.06-2.06.94zm-11 1L8.5 8.5l.94-2.06 2.06-.94-2.06-.94L8.5 2.5l-.94 2.06-2.06.94zm10 10l.94 2.06.94-2.06 2.06-.94-2.06-.94-.94-2.06-.94 2.06-2.06.94z\"/><path d=\"M17.41 7.96l-1.37-1.37c-.4-.4-.92-.59-1.43-.59-.52 0-1.04.2-1.43.59L10.3 9.45l-7.72 7.72c-.78.78-.78 2.05 0 2.83L4 21.41c.39.39.9.59 1.41.59.51 0 1.02-.2 1.41-.59l7.78-7.78 2.81-2.81c.8-.78.8-2.07 0-2.86zM5.41 20L4 18.59l7.72-7.72 1.47 1.35L5.41 20z\"/>\n",
              "  </svg>\n",
              "      </button>\n",
              "      \n",
              "  <style>\n",
              "    .colab-df-container {\n",
              "      display:flex;\n",
              "      flex-wrap:wrap;\n",
              "      gap: 12px;\n",
              "    }\n",
              "\n",
              "    .colab-df-convert {\n",
              "      background-color: #E8F0FE;\n",
              "      border: none;\n",
              "      border-radius: 50%;\n",
              "      cursor: pointer;\n",
              "      display: none;\n",
              "      fill: #1967D2;\n",
              "      height: 32px;\n",
              "      padding: 0 0 0 0;\n",
              "      width: 32px;\n",
              "    }\n",
              "\n",
              "    .colab-df-convert:hover {\n",
              "      background-color: #E2EBFA;\n",
              "      box-shadow: 0px 1px 2px rgba(60, 64, 67, 0.3), 0px 1px 3px 1px rgba(60, 64, 67, 0.15);\n",
              "      fill: #174EA6;\n",
              "    }\n",
              "\n",
              "    [theme=dark] .colab-df-convert {\n",
              "      background-color: #3B4455;\n",
              "      fill: #D2E3FC;\n",
              "    }\n",
              "\n",
              "    [theme=dark] .colab-df-convert:hover {\n",
              "      background-color: #434B5C;\n",
              "      box-shadow: 0px 1px 3px 1px rgba(0, 0, 0, 0.15);\n",
              "      filter: drop-shadow(0px 1px 2px rgba(0, 0, 0, 0.3));\n",
              "      fill: #FFFFFF;\n",
              "    }\n",
              "  </style>\n",
              "\n",
              "      <script>\n",
              "        const buttonEl =\n",
              "          document.querySelector('#df-6e010e21-937f-479e-9ca0-3d9ffbca2ccd button.colab-df-convert');\n",
              "        buttonEl.style.display =\n",
              "          google.colab.kernel.accessAllowed ? 'block' : 'none';\n",
              "\n",
              "        async function convertToInteractive(key) {\n",
              "          const element = document.querySelector('#df-6e010e21-937f-479e-9ca0-3d9ffbca2ccd');\n",
              "          const dataTable =\n",
              "            await google.colab.kernel.invokeFunction('convertToInteractive',\n",
              "                                                     [key], {});\n",
              "          if (!dataTable) return;\n",
              "\n",
              "          const docLinkHtml = 'Like what you see? Visit the ' +\n",
              "            '<a target=\"_blank\" href=https://colab.research.google.com/notebooks/data_table.ipynb>data table notebook</a>'\n",
              "            + ' to learn more about interactive tables.';\n",
              "          element.innerHTML = '';\n",
              "          dataTable['output_type'] = 'display_data';\n",
              "          await google.colab.output.renderOutput(dataTable, element);\n",
              "          const docLink = document.createElement('div');\n",
              "          docLink.innerHTML = docLinkHtml;\n",
              "          element.appendChild(docLink);\n",
              "        }\n",
              "      </script>\n",
              "    </div>\n",
              "  </div>\n",
              "  "
            ],
            "text/plain": [
              "        Company/Brand                                             Sector  \\\n",
              "0     TheCollegeFever  Brand Marketing, Event Promotion, Marketing, S...   \n",
              "1     Happy Cow Dairy                               Agriculture, Farming   \n",
              "2          MyLoanCare   Credit, Financial Services, Lending, Marketplace   \n",
              "3         PayMe India                        Financial Services, FinTech   \n",
              "4            Eunimart                 E-Commerce Platforms, Retail, SaaS   \n",
              "...               ...                                                ...   \n",
              "2874         Gigforce                              Staffing & Recruiting   \n",
              "2875           Vahdam                                   Food & Beverages   \n",
              "2876     Leap Finance                                 Financial Services   \n",
              "2877     CollegeDekho                                             EdTech   \n",
              "2878           WeRize                                 Financial Services   \n",
              "\n",
              "             Stage    Amount($)                       HeadQuarter  \\\n",
              "0             Seed       250000       Bangalore, Karnataka, India   \n",
              "1             Seed  ₹40,000,000        Mumbai, Maharashtra, India   \n",
              "2         Series A  ₹65,000,000           Gurgaon, Haryana, India   \n",
              "3            Angel      2000000       Noida, Uttar Pradesh, India   \n",
              "4             Seed            —  Hyderabad, Andhra Pradesh, India   \n",
              "...            ...          ...                               ...   \n",
              "2874  Pre-series A     $3000000                          Gurugram   \n",
              "2875      Series D    $20000000                         New Delhi   \n",
              "2876      Series C    $55000000                         Bangalore   \n",
              "2877      Series B    $26000000                          Gurugram   \n",
              "2878      Series A     $8000000                         Bangalore   \n",
              "\n",
              "                                           What it does Founded  \\\n",
              "0     TheCollegeFever is a hub for fun, fiesta and f...     NaN   \n",
              "1     A startup which aggregates milk from dairy far...     NaN   \n",
              "2             Leading Online Loans Marketplace in India     NaN   \n",
              "3     PayMe India is an innovative FinTech organizat...     NaN   \n",
              "4     Eunimart is a one stop solution for merchants ...     NaN   \n",
              "...                                                 ...     ...   \n",
              "2874                  A gig/on-demand staffing company.  2019.0   \n",
              "2875  VAHDAM is among the world’s first vertically i...  2015.0   \n",
              "2876  International education loans for high potenti...  2019.0   \n",
              "2877  Collegedekho.com is Student’s Partner, Friend ...  2015.0   \n",
              "2878  India’s first socially distributed full stack ...  2019.0   \n",
              "\n",
              "                           Founders                          Investor  \n",
              "0                               NaN                               NaN  \n",
              "1                               NaN                               NaN  \n",
              "2                               NaN                               NaN  \n",
              "3                               NaN                               NaN  \n",
              "4                               NaN                               NaN  \n",
              "...                             ...                               ...  \n",
              "2874    Chirag Mittal, Anirudh Syal                   Endiya Partners  \n",
              "2875                     Bala Sarda                          IIFL AMC  \n",
              "2876     Arnav Kumar, Vaibhav Singh                      Owl Ventures  \n",
              "2877                   Ruchir Arora  Winter Capital, ETS, Man Capital  \n",
              "2878  Vishal Chopra, Himanshu Gupta    3one4 Capital, Kalaari Capital  \n",
              "\n",
              "[2879 rows x 9 columns]"
            ]
          },
          "execution_count": 14,
          "metadata": {},
          "output_type": "execute_result"
        }
      ],
      "source": [
        "# View the dataframe to confirm column deletion\n",
        "startup_df"
      ]
    },
    {
      "cell_type": "markdown",
      "metadata": {
        "id": "9PA36utzDoq0"
      },
      "source": [
        "### Start Cleaning the Amounts Column\n",
        "\n",
        "In this section, we will start cleaning the Amounts column of the dataframe as it contains the info that relates to all our questions "
      ]
    },
    {
      "cell_type": "code",
      "execution_count": null,
      "metadata": {
        "colab": {
          "base_uri": "https://localhost:8080/"
        },
        "id": "U6AoRoVCD9xi",
        "outputId": "2e53385e-461f-4a6a-edc8-016ec891a514"
      },
      "outputs": [
        {
          "data": {
            "text/plain": [
              "array([<class 'str'>, <class 'float'>], dtype=object)"
            ]
          },
          "execution_count": 15,
          "metadata": {},
          "output_type": "execute_result"
        }
      ],
      "source": [
        "# Check types of data in the Amounts Column\n",
        "\n",
        "startup_df['Amount($)'].apply(type).unique()"
      ]
    },
    {
      "cell_type": "code",
      "execution_count": null,
      "metadata": {
        "id": "CIgMh7foEDbO"
      },
      "outputs": [],
      "source": [
        "#drop the words \"Undisclosed\" and \"undisclosed\" in Amounts column\n",
        "\n",
        "startup_df =startup_df.drop(startup_df[(startup_df['Amount($)'] == 'Undisclosed') | (startup_df['Amount($)'] == 'undisclosed')].index )"
      ]
    },
    {
      "cell_type": "code",
      "execution_count": null,
      "metadata": {
        "id": "OYbNKRb8FeQN"
      },
      "outputs": [],
      "source": [
        "#Replace commas with ''\n",
        "\n",
        "startup_df['Amount($)'] = startup_df['Amount($)'].apply(lambda x: x.replace(',',''))\n",
        "#startup_df['Amount($)'] = startup_df['Amount($)'].str.replace(',','', regex=True)"
      ]
    },
    {
      "cell_type": "code",
      "execution_count": null,
      "metadata": {
        "id": "2FpM7q0XFq3r"
      },
      "outputs": [],
      "source": [
        "#Replace Rupee sign with ''\n",
        "\n",
        "startup_df['Amount($)'] = startup_df['Amount($)'].apply(lambda x: x.replace('₹',''))\n",
        "#startup_df['Rupee-Amount'] = startup_df['Amount($)'].str.replace('₹','', regex=True)"
      ]
    },
    {
      "cell_type": "code",
      "execution_count": null,
      "metadata": {
        "id": "E2S9iEeSJxGo"
      },
      "outputs": [],
      "source": [
        "#Replace Dollar sign with ''\n",
        "\n",
        "startup_df['Amount($)'] = startup_df['Amount($)'].apply(lambda x: x.replace('$',''))\n",
        "#startup_df['Amount($)'] = startup_df['Amount($)'].str.replace('₹','', regex=True)"
      ]
    },
    {
      "cell_type": "code",
      "execution_count": null,
      "metadata": {
        "id": "KPQt1fsvG4YS"
      },
      "outputs": [],
      "source": [
        "startup_df.head(10)"
      ]
    },
    {
      "cell_type": "code",
      "execution_count": null,
      "metadata": {
        "colab": {
          "base_uri": "https://localhost:8080/"
        },
        "id": "54pcmfuYKUPv",
        "outputId": "2c2dc292-7d13-41a1-ef08-20eb553e029a"
      },
      "outputs": [
        {
          "data": {
            "text/plain": [
              "(2581, 9)"
            ]
          },
          "execution_count": 18,
          "metadata": {},
          "output_type": "execute_result"
        }
      ],
      "source": [
        "startup_df.shape"
      ]
    },
    {
      "cell_type": "code",
      "execution_count": null,
      "metadata": {
        "colab": {
          "base_uri": "https://localhost:8080/",
          "height": 236
        },
        "id": "2EDle6ZpKYnG",
        "outputId": "e0ff01f7-d3b3-42d6-f075-a553c90e4376"
      },
      "outputs": [
        {
          "data": {
            "text/html": [
              "\n",
              "  <div id=\"df-7355ff55-ce26-42e4-a41d-be53c5ce1082\">\n",
              "    <div class=\"colab-df-container\">\n",
              "      <div>\n",
              "<style scoped>\n",
              "    .dataframe tbody tr th:only-of-type {\n",
              "        vertical-align: middle;\n",
              "    }\n",
              "\n",
              "    .dataframe tbody tr th {\n",
              "        vertical-align: top;\n",
              "    }\n",
              "\n",
              "    .dataframe thead th {\n",
              "        text-align: right;\n",
              "    }\n",
              "</style>\n",
              "<table border=\"1\" class=\"dataframe\">\n",
              "  <thead>\n",
              "    <tr style=\"text-align: right;\">\n",
              "      <th></th>\n",
              "      <th>Company/Brand</th>\n",
              "      <th>Sector</th>\n",
              "      <th>Stage</th>\n",
              "      <th>Amount($)</th>\n",
              "      <th>HeadQuarter</th>\n",
              "      <th>What it does</th>\n",
              "      <th>Founded</th>\n",
              "      <th>Founders</th>\n",
              "      <th>Investor</th>\n",
              "    </tr>\n",
              "  </thead>\n",
              "  <tbody>\n",
              "    <tr>\n",
              "      <th>count</th>\n",
              "      <td>2581</td>\n",
              "      <td>2564</td>\n",
              "      <td>1802</td>\n",
              "      <td>2575</td>\n",
              "      <td>2486</td>\n",
              "      <td>2581</td>\n",
              "      <td>1883.0</td>\n",
              "      <td>2041</td>\n",
              "      <td>1967</td>\n",
              "    </tr>\n",
              "    <tr>\n",
              "      <th>unique</th>\n",
              "      <td>2007</td>\n",
              "      <td>816</td>\n",
              "      <td>71</td>\n",
              "      <td>698</td>\n",
              "      <td>164</td>\n",
              "      <td>2418</td>\n",
              "      <td>52.0</td>\n",
              "      <td>1750</td>\n",
              "      <td>1575</td>\n",
              "    </tr>\n",
              "    <tr>\n",
              "      <th>top</th>\n",
              "      <td>BharatPe</td>\n",
              "      <td>FinTech</td>\n",
              "      <td>Seed</td>\n",
              "      <td>—</td>\n",
              "      <td>Bangalore</td>\n",
              "      <td>BYJU'S is an educational technology company th...</td>\n",
              "      <td>2020.0</td>\n",
              "      <td>Ashneer Grover, Shashvat Nakrani</td>\n",
              "      <td>Inflection Point Ventures</td>\n",
              "    </tr>\n",
              "    <tr>\n",
              "      <th>freq</th>\n",
              "      <td>10</td>\n",
              "      <td>159</td>\n",
              "      <td>571</td>\n",
              "      <td>148</td>\n",
              "      <td>679</td>\n",
              "      <td>5</td>\n",
              "      <td>228.0</td>\n",
              "      <td>7</td>\n",
              "      <td>32</td>\n",
              "    </tr>\n",
              "  </tbody>\n",
              "</table>\n",
              "</div>\n",
              "      <button class=\"colab-df-convert\" onclick=\"convertToInteractive('df-7355ff55-ce26-42e4-a41d-be53c5ce1082')\"\n",
              "              title=\"Convert this dataframe to an interactive table.\"\n",
              "              style=\"display:none;\">\n",
              "        \n",
              "  <svg xmlns=\"http://www.w3.org/2000/svg\" height=\"24px\"viewBox=\"0 0 24 24\"\n",
              "       width=\"24px\">\n",
              "    <path d=\"M0 0h24v24H0V0z\" fill=\"none\"/>\n",
              "    <path d=\"M18.56 5.44l.94 2.06.94-2.06 2.06-.94-2.06-.94-.94-2.06-.94 2.06-2.06.94zm-11 1L8.5 8.5l.94-2.06 2.06-.94-2.06-.94L8.5 2.5l-.94 2.06-2.06.94zm10 10l.94 2.06.94-2.06 2.06-.94-2.06-.94-.94-2.06-.94 2.06-2.06.94z\"/><path d=\"M17.41 7.96l-1.37-1.37c-.4-.4-.92-.59-1.43-.59-.52 0-1.04.2-1.43.59L10.3 9.45l-7.72 7.72c-.78.78-.78 2.05 0 2.83L4 21.41c.39.39.9.59 1.41.59.51 0 1.02-.2 1.41-.59l7.78-7.78 2.81-2.81c.8-.78.8-2.07 0-2.86zM5.41 20L4 18.59l7.72-7.72 1.47 1.35L5.41 20z\"/>\n",
              "  </svg>\n",
              "      </button>\n",
              "      \n",
              "  <style>\n",
              "    .colab-df-container {\n",
              "      display:flex;\n",
              "      flex-wrap:wrap;\n",
              "      gap: 12px;\n",
              "    }\n",
              "\n",
              "    .colab-df-convert {\n",
              "      background-color: #E8F0FE;\n",
              "      border: none;\n",
              "      border-radius: 50%;\n",
              "      cursor: pointer;\n",
              "      display: none;\n",
              "      fill: #1967D2;\n",
              "      height: 32px;\n",
              "      padding: 0 0 0 0;\n",
              "      width: 32px;\n",
              "    }\n",
              "\n",
              "    .colab-df-convert:hover {\n",
              "      background-color: #E2EBFA;\n",
              "      box-shadow: 0px 1px 2px rgba(60, 64, 67, 0.3), 0px 1px 3px 1px rgba(60, 64, 67, 0.15);\n",
              "      fill: #174EA6;\n",
              "    }\n",
              "\n",
              "    [theme=dark] .colab-df-convert {\n",
              "      background-color: #3B4455;\n",
              "      fill: #D2E3FC;\n",
              "    }\n",
              "\n",
              "    [theme=dark] .colab-df-convert:hover {\n",
              "      background-color: #434B5C;\n",
              "      box-shadow: 0px 1px 3px 1px rgba(0, 0, 0, 0.15);\n",
              "      filter: drop-shadow(0px 1px 2px rgba(0, 0, 0, 0.3));\n",
              "      fill: #FFFFFF;\n",
              "    }\n",
              "  </style>\n",
              "\n",
              "      <script>\n",
              "        const buttonEl =\n",
              "          document.querySelector('#df-7355ff55-ce26-42e4-a41d-be53c5ce1082 button.colab-df-convert');\n",
              "        buttonEl.style.display =\n",
              "          google.colab.kernel.accessAllowed ? 'block' : 'none';\n",
              "\n",
              "        async function convertToInteractive(key) {\n",
              "          const element = document.querySelector('#df-7355ff55-ce26-42e4-a41d-be53c5ce1082');\n",
              "          const dataTable =\n",
              "            await google.colab.kernel.invokeFunction('convertToInteractive',\n",
              "                                                     [key], {});\n",
              "          if (!dataTable) return;\n",
              "\n",
              "          const docLinkHtml = 'Like what you see? Visit the ' +\n",
              "            '<a target=\"_blank\" href=https://colab.research.google.com/notebooks/data_table.ipynb>data table notebook</a>'\n",
              "            + ' to learn more about interactive tables.';\n",
              "          element.innerHTML = '';\n",
              "          dataTable['output_type'] = 'display_data';\n",
              "          await google.colab.output.renderOutput(dataTable, element);\n",
              "          const docLink = document.createElement('div');\n",
              "          docLink.innerHTML = docLinkHtml;\n",
              "          element.appendChild(docLink);\n",
              "        }\n",
              "      </script>\n",
              "    </div>\n",
              "  </div>\n",
              "  "
            ],
            "text/plain": [
              "       Company/Brand   Sector Stage Amount($) HeadQuarter  \\\n",
              "count           2581     2564  1802      2575        2486   \n",
              "unique          2007      816    71       698         164   \n",
              "top         BharatPe  FinTech  Seed         —   Bangalore   \n",
              "freq              10      159   571       148         679   \n",
              "\n",
              "                                             What it does  Founded  \\\n",
              "count                                                2581   1883.0   \n",
              "unique                                               2418     52.0   \n",
              "top     BYJU'S is an educational technology company th...   2020.0   \n",
              "freq                                                    5    228.0   \n",
              "\n",
              "                                Founders                   Investor  \n",
              "count                               2041                       1967  \n",
              "unique                              1750                       1575  \n",
              "top     Ashneer Grover, Shashvat Nakrani  Inflection Point Ventures  \n",
              "freq                                   7                         32  "
            ]
          },
          "execution_count": 19,
          "metadata": {},
          "output_type": "execute_result"
        }
      ],
      "source": [
        "startup_df.describe()"
      ]
    },
    {
      "cell_type": "code",
      "execution_count": null,
      "metadata": {
        "colab": {
          "base_uri": "https://localhost:8080/"
        },
        "id": "0xayYoq1KdSv",
        "outputId": "53ac6990-d393-48aa-fb93-38261e0f0fae"
      },
      "outputs": [
        {
          "data": {
            "text/plain": [
              "Company/Brand    object\n",
              "Sector           object\n",
              "Stage            object\n",
              "Amount($)        object\n",
              "HeadQuarter      object\n",
              "What it does     object\n",
              "Founded          object\n",
              "Founders         object\n",
              "Investor         object\n",
              "dtype: object"
            ]
          },
          "execution_count": 21,
          "metadata": {},
          "output_type": "execute_result"
        }
      ],
      "source": [
        "startup_df.dtypes"
      ]
    },
    {
      "cell_type": "code",
      "execution_count": null,
      "metadata": {
        "colab": {
          "base_uri": "https://localhost:8080/"
        },
        "id": "SXBXGP6tKh_i",
        "outputId": "68d582e4-e6c7-42ec-9e18-c110aaabae21"
      },
      "outputs": [
        {
          "data": {
            "text/plain": [
              "Company/Brand      0\n",
              "Sector            17\n",
              "Stage            779\n",
              "Amount($)          6\n",
              "HeadQuarter       95\n",
              "What it does       0\n",
              "Founded          698\n",
              "Founders         540\n",
              "Investor         614\n",
              "dtype: int64"
            ]
          },
          "execution_count": 22,
          "metadata": {},
          "output_type": "execute_result"
        }
      ],
      "source": [
        "#Check null values in each column\n",
        "\n",
        "startup_df.isna().sum()"
      ]
    },
    {
      "cell_type": "code",
      "execution_count": null,
      "metadata": {
        "colab": {
          "base_uri": "https://localhost:8080/"
        },
        "id": "2eL7dW--K42x",
        "outputId": "26da3bf0-d90f-46ec-8a87-92c993143d27"
      },
      "outputs": [
        {
          "data": {
            "text/plain": [
              "22"
            ]
          },
          "execution_count": 23,
          "metadata": {},
          "output_type": "execute_result"
        }
      ],
      "source": [
        "# Check for duplicated rows\n",
        "\n",
        "startup_df.duplicated().sum()"
      ]
    },
    {
      "cell_type": "code",
      "execution_count": null,
      "metadata": {
        "colab": {
          "base_uri": "https://localhost:8080/"
        },
        "id": "pfy-Fb-0K_Y3",
        "outputId": "860ac6b1-8c98-48b1-c538-48b3fbe76d4b"
      },
      "outputs": [
        {
          "data": {
            "text/plain": [
              "0"
            ]
          },
          "execution_count": 24,
          "metadata": {},
          "output_type": "execute_result"
        }
      ],
      "source": [
        "# Check for Duplicated columns\n",
        "\n",
        "startup_df.T.duplicated().sum()"
      ]
    },
    {
      "cell_type": "code",
      "execution_count": null,
      "metadata": {
        "id": "j7fZDUsLLGIT"
      },
      "outputs": [],
      "source": [
        "#Drop duplicates and create another dataframe with unduplicated columns\n",
        "\n",
        "unduplicated_startup_df = startup_df.drop_duplicates()\n",
        "unduplicated_startup_df"
      ]
    },
    {
      "cell_type": "code",
      "execution_count": null,
      "metadata": {
        "colab": {
          "base_uri": "https://localhost:8080/"
        },
        "id": "skEAhG0-LZzp",
        "outputId": "1c371e22-d76b-4750-f864-96d894bb90c2"
      },
      "outputs": [
        {
          "data": {
            "text/plain": [
              "(2559, 9)"
            ]
          },
          "execution_count": 26,
          "metadata": {},
          "output_type": "execute_result"
        }
      ],
      "source": [
        "unduplicated_startup_df.shape"
      ]
    },
    {
      "cell_type": "markdown",
      "metadata": {
        "id": "1jp5LfsvF72x"
      },
      "source": [
        "## Univariate Analysis\n",
        "\n",
        "‘Univariate analysis’ is the analysis of one variable at a time. This analysis might be done by computing some statistical indicators and by plotting some charts respectively using the pandas dataframe's method `.describe()` and one of the plotting libraries like  [Seaborn](https://seaborn.pydata.org/), [Matplotlib](https://matplotlib.org/), [Plotly](https://seaborn.pydata.org/), etc.\n",
        "\n",
        "Please, read [this article](https://towardsdatascience.com/8-seaborn-plots-for-univariate-exploratory-data-analysis-eda-in-python-9d280b6fe67f) to know more about the charts."
      ]
    },
    {
      "cell_type": "code",
      "execution_count": null,
      "metadata": {
        "id": "z2MH6TKPFbBA"
      },
      "outputs": [],
      "source": [
        "# Code here"
      ]
    },
    {
      "cell_type": "markdown",
      "metadata": {
        "id": "TP-DiZvsWs0F"
      },
      "source": [
        "## Multivariate Analysis\n",
        "\n",
        "Multivariate analysis’ is the analysis of more than one variable and aims to study the relationships among them. This analysis might be done by computing some statistical indicators like the `correlation` and by plotting some charts.\n",
        "\n",
        "Please, read [this article](https://towardsdatascience.com/10-must-know-seaborn-functions-for-multivariate-data-analysis-in-python-7ba94847b117) to know more about the charts."
      ]
    },
    {
      "cell_type": "code",
      "execution_count": null,
      "metadata": {
        "id": "NbYppWX8cfds"
      },
      "outputs": [],
      "source": [
        "# Code here"
      ]
    },
    {
      "cell_type": "markdown",
      "metadata": {
        "id": "2pfMjvtNhlfB"
      },
      "source": [
        "# Feature processing\n",
        "Here is the section to **clean** and **process** the features of the dataset."
      ]
    },
    {
      "cell_type": "markdown",
      "metadata": {
        "id": "RR_0P-SJiPx_"
      },
      "source": [
        "## Missing/NaN Values\n",
        "Handle the missing/NaN values using the Scikif-learn SimpleImputer"
      ]
    },
    {
      "cell_type": "code",
      "execution_count": null,
      "metadata": {
        "id": "0YgaX0jfLcaK"
      },
      "outputs": [],
      "source": [
        "# Code Here"
      ]
    },
    {
      "cell_type": "markdown",
      "metadata": {
        "id": "YipqthozL2kt"
      },
      "source": [
        "## Scaling\n",
        "Scale the numeric features using the Scikif-learn StandardScaler, MinMaxScaler, or another Scaler."
      ]
    },
    {
      "cell_type": "code",
      "execution_count": null,
      "metadata": {
        "id": "aI7jM-rZMYCG"
      },
      "outputs": [],
      "source": [
        "# Code here"
      ]
    },
    {
      "cell_type": "markdown",
      "metadata": {
        "id": "XdFcGOxHMalr"
      },
      "source": [
        "## Encoding\n",
        "Encode the categorical features using the Scikif-learn OneHotEncoder."
      ]
    },
    {
      "cell_type": "code",
      "execution_count": null,
      "metadata": {
        "id": "sAMvupuRMs-P"
      },
      "outputs": [],
      "source": [
        "# Code here"
      ]
    }
  ],
  "metadata": {
    "colab": {
      "provenance": [],
      "include_colab_link": true
    },
    "kernelspec": {
      "display_name": "Python 3",
      "name": "python3"
    },
    "language_info": {
      "name": "python"
    }
  },
  "nbformat": 4,
  "nbformat_minor": 0
}